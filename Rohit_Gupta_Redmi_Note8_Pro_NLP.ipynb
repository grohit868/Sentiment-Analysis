{
 "cells": [
  {
   "cell_type": "code",
   "execution_count": 3,
   "metadata": {},
   "outputs": [],
   "source": [
    "import time\n",
    "from selenium import webdriver\n",
    "customOptions = webdriver.ChromeOptions()"
   ]
  },
  {
   "cell_type": "code",
   "execution_count": 4,
   "metadata": {},
   "outputs": [],
   "source": [
    "from selenium.webdriver.common.keys import Keys"
   ]
  },
  {
   "cell_type": "code",
   "execution_count": 6,
   "metadata": {},
   "outputs": [],
   "source": [
    "#driver = webdriver.Chrome('chromedriver',options=customOptions)\n"
   ]
  },
  {
   "cell_type": "code",
   "execution_count": 7,
   "metadata": {},
   "outputs": [],
   "source": [
    "driver = webdriver.Chrome('chromedriver',options=customOptions)\n",
    "URL='https://www.amazon.in/Redmi-Note-Pro-Storage-Processor/product-reviews/B07X4PKGSN/ref=cm_cr_arp_d_viewopt_sr?ie=UTF8&reviewerType=all_reviews&pageNumber=1&filterByStar=one_star'\n",
    "driver.get(URL)"
   ]
  },
  {
   "cell_type": "code",
   "execution_count": 9,
   "metadata": {},
   "outputs": [],
   "source": [
    "WebPage_Element=driver.find_element_by_partial_link_text('See all 6,009 critical reviews')\n",
    "WebPage_Element.click()\n"
   ]
  },
  {
   "cell_type": "code",
   "execution_count": 11,
   "metadata": {},
   "outputs": [],
   "source": [
    "#WebPage_Element.click()\n"
   ]
  },
  {
   "cell_type": "code",
   "execution_count": 12,
   "metadata": {},
   "outputs": [],
   "source": [
    "TextBody = driver.find_element_by_css_selector('body')\n"
   ]
  },
  {
   "cell_type": "code",
   "execution_count": 13,
   "metadata": {},
   "outputs": [],
   "source": [
    "TextBody.send_keys(Keys.CONTROL+'a')"
   ]
  },
  {
   "cell_type": "code",
   "execution_count": 14,
   "metadata": {},
   "outputs": [],
   "source": [
    "import re\n",
    "RawFullText=TextBody.text\n",
    "CleanText=re.sub('\\n',' ',RawFullText)\n",
    "CleanText = re.sub(r'[^a-z A-Z]',r'',CleanText)"
   ]
  },
  {
   "cell_type": "code",
   "execution_count": 15,
   "metadata": {},
   "outputs": [
    {
     "data": {
      "text/plain": [
       "'Skip to main content in   Hello Sign in Account  Lists Returns  Orders Try Prime Cart  All All Categories Deals Alexa Skills Amazon Devices Amazon Fashion Amazon Pantry Appliances Apps  Games Baby Beauty Books Car  Motorbike Clothing  Accessories Collectibles Computers  Accessories Electronics Furniture Garden  Outdoors Gift Cards Grocery  Gourmet Foods Health  Personal Care Home  Kitchen Industrial  Scientific Jewellery Kindle Store Luggage  Bags Luxury Beauty Movies  TV Shows Music Musical Instruments Office Products Pet Supplies Prime Video Shoes  Handbags Software Sports Fitness  Outdoors Tools  Home Improvement Toys  Games Under  Video Games Watches Go Hello Select your address Mobiles Best Sellers Todays Deals Computers Redmi Note  Pro Halo White GB RAM GB Storage with Helio GT  Customer reviews Customer reviews  out of   customer ratings  star   star   star   star   star  Redmi Note  Pro Halo White GB RAM GB Storage with Helio GT Processor byRedmi Size name GBColour Halo WhiteChange Write a review How does Amazon calculate star ratings See All Buying Options Add to Wish List Top positive review See all  positive reviews Mukesh leve ZakaaaaaaaaaaaS Reviewed in India on  November   Awesome mobile in this price  Value of money   Display    build quality    Camera    Buttery    Screen    Sound    Tuch    Performance    Allover  Read more  people found this helpful Top critical review See all  critical reviews sanower ali warsi friensds Read my review before by ones Reviewed in India on  November  after using  days i would like to say if you are thinking To by this phone for processors then go for iti am giving star just for running smoothlybut if you thinking to by for Quad camera then its Bad decission like me No detailing in long distance subject in Imageif you go for more than x zoom image quality Dieslow motion video not support to take long timeas well micron lense not professional  presently i am not happy with camera Hope for Future update Read more  people found this helpful Search SORT BY Top rated Most recent Top rated FILTER BY All reviewers Verified purchase only All reviewers All stars  star only  star only  star only  star only  star only All positive All critical All critical All formats Size name GB Colour Halo White All formats All text image and video reviews Image and video reviews only All text image and video reviews Showing  of  reviewsCritical Clear filter sanower ali warsi friensds Read my review before by ones Reviewed in India on  November  Size name GBColour Gamma GreenVerified Purchase after using  days i would like to say if you are thinking To by this phone for processors then go for iti am giving star just for running smoothlybut if you thinking to by for Quad camera then its Bad decission like me No detailing in long distance subject in Imageif you go for more than x zoom image quality Dieslow motion video not support to take long timeas well micron lense not professional  presently i am not happy with camera Hope for Future update  people found this helpful Helpful  Comments Report abuse praveen Bad performance Reviewed in India on  November  Verified Purchase Worst phone lot of problems  people found this helpful Helpful  Comments Report abuse Soumalya Heating problem Reviewed in India on  November  Size name GBColour Halo WhiteVerified Purchase Huge heating problem Right side of the camera is heating without playing any game   people found this helpful Helpful  Comments Report abuse Alok Raghav Worst smartphone ever by redmi Reviewed in India on  November  Verified Purchase Camera is very poor Device setup is also difficult Battery draining fast No replacement policy Please dont buy this phone In this price range you can go for Samsung galaxy Ms  people found this helpful Helpful  Comments Report abuse Santhosh Kumar P Good one but network problem Reviewed in India on  November  Size name GBColour Halo WhiteVerified Purchase I have purchased this mobile recently Im facing network problem in Bangalore city using JIO sim while speaking on call network breaks Network problem need to be stabilized Other than that No problem  Cameras are awesome Performance also very good  people found this helpful Helpful  Comments Report abuse Amazon Customer Worst Camera Reviewed in India on  November  Size name GBColour Gamma GreenVerified Purchase Camera is very very bad This is not a real MP Camera They are cheating us in name of MP camera  people found this helpful Helpful Comment Report abuse pankaj s Issues with video calling Reviewed in India on  November  Verified Purchase Has issues with video calling Incoming video images are not clear  scattered  Check this before buying  people found this helpful Helpful Comment Report abuse kamal roy Dont waste your money Reviewed in India on  November  Size name GBColour Halo WhiteVerified Purchase I have noticed so many bugsissues in this device  network signal weak data speed slow  heating issue back side become over heat at the time of talking photos and videos just within  to minutes  Battery draining fast when I using camera for talking photos as well as videos  camera need improvement MP camera that makes me a big Fool its just like my old Asus max Pro m MP camera Xiaomi team if u r listening plz plz solve those issues by software updates  people found this helpful Helpful  Comments Report abuse Sreenivasa Reddy Facing heat issue and picture quality is low Reviewed in India on  November  Verified Purchase I observed that this phone is getting heat when you use more than  min for callscamera video Also the picture quality is lowNot sure whether I received any faulty device and ordered for replacement lets observe new device  people found this helpful Helpful  Comments Report abuse Veerababu Disappointed  Reviewed in India on  November  Size name GBColour Gamma GreenVerified Purchase People will regret after buying this mobile Cons  The heating issue even if you install apps the mobile is getting heat  No L Support even if it shows Amazon Prime and Netflix is not supported HD  Call Quality issues  Dont trust reviewers guys the green color looks So cheap If you guys buying better go with White color or black  Camera Quality is average  overall  its a bad purchase  people found this helpful Helpful Comment Report abuse Previous page Next page Questions Get fast answers from reviewers Ask See all  answered questions Need customer service Click here  See all details for Redmi Note  Pro Halo White GB RAM GB Storage with Helio GT   Back to top Get to Know Us About Us Careers Press Releases Amazon Cares Gift a Smile Connect with Us Facebook Twitter Instagram Make Money with Us Sell on Amazon Sell under Amazon Accelerator Become an Affiliate Fulfilment by Amazon Advertise Your Products Amazon Pay on Merchants Let Us Help You COVID and Amazon Your Account Returns Centre  Purchase Protection Amazon App Download Amazon Assistant Download Help English AustraliaBrazilCanadaChinaFranceGermanyItalyJapanMexicoNetherlandsSingaporeSpainUnited Arab EmiratesUnited KingdomUnited States AbeBooks Books art  collectibles Amazon Web Services Scalable Cloud Computing Services Audible Download Audio Books DPReview Digital Photography IMDb Movies TV  Celebrities   Shopbop Designer Fashion Brands Amazon Business Everything For Your Business Prime Now Hour Delivery on Everyday Items Amazon Prime Music  million songs   Conditions of Use  SalePrivacy NoticeInterestBased Ads  Amazoncom Inc or its affiliates'"
      ]
     },
     "execution_count": 15,
     "metadata": {},
     "output_type": "execute_result"
    }
   ],
   "source": [
    "CleanText\n"
   ]
  },
  {
   "cell_type": "code",
   "execution_count": 16,
   "metadata": {},
   "outputs": [],
   "source": [
    "from textblob import TextBlob\n",
    "SampleTextInBlobFormat = TextBlob(CleanText)"
   ]
  },
  {
   "cell_type": "code",
   "execution_count": 18,
   "metadata": {},
   "outputs": [
    {
     "data": {
      "text/plain": [
       "Sentiment(polarity=0.02921542375150623, subjectivity=0.4956238377887861)"
      ]
     },
     "execution_count": 18,
     "metadata": {},
     "output_type": "execute_result"
    }
   ],
   "source": [
    "SampleTextInBlobFormat.sentiment"
   ]
  },
  {
   "cell_type": "code",
   "execution_count": 19,
   "metadata": {},
   "outputs": [
    {
     "data": {
      "text/plain": [
       "WordList(['skip', 'main content', 'hello sign', 'account lists returns orders try prime cart', 'categories deals alexa skills amazon devices amazon', 'amazon pantry appliances apps', 'baby', 'beauty books', 'car motorbike clothing accessories collectibles computers accessories electronics furniture', 'outdoors', 'gourmet', 'personal care', 'kitchen', 'scientific jewellery kindle store luggage bags luxury', 'movies', 'shows', 'musical instruments', 'products pet supplies prime video shoes handbags software', 'fitness outdoors tools', 'improvement', 'video', 'watches', 'hello select', 'mobiles', 'sellers todays deals computers redmi', 'pro halo', 'gb ram gb storage', 'helio gt customer', 'customer', 'customer ratings star star star star star', 'redmi', 'pro halo', 'gb ram gb storage', 'helio gt processor', 'size', 'gbcolour halo whitechange', 'amazon', 'calculate star ratings', 'buying options', 'list top', 'positive review', 'positive reviews', 'mukesh', 'zakaaaaaaaaaaas reviewed', 'india', 'november awesome', 'value', 'display', 'quality camera', 'buttery screen sound tuch performance allover read', 'top', 'critical review', 'critical reviews sanower ali warsi friensds', 'read', 'reviewed', 'india', 'november', 'days i', 'quad', 'long distance subject', 'imageif', 'x zoom image quality', 'dieslow', 'motion video', 'micron lense', 'hope', 'read', 'search sort by top', 'top', 'filter by', 'verified', 'stars star', 'size', 'gb colour halo', 'text image', 'video reviews', 'image', 'video reviews', 'text image', 'video reviews', 'showing', 'clear', 'filter sanower ali warsi friensds', 'read', 'reviewed', 'india', 'november size', 'gbcolour', 'greenverified purchase', 'days i', 'quad', 'long distance subject', 'imageif', 'x zoom image quality', 'dieslow', 'motion video', 'micron lense', 'hope', 'update people', 'helpful comments', 'abuse praveen', 'reviewed', 'india', 'november verified purchase worst', 'phone lot', 'problems people', 'helpful comments', 'soumalya', 'reviewed', 'india', 'november size', 'gbcolour halo whiteverified purchase huge', 'right', 'game people', 'helpful comments', 'alok raghav worst', 'reviewed', 'india', 'november verified purchase', 'device', 'battery', 'replacement policy', 'please', 'price range', 'samsung', 'ms', 'helpful comments', 'santhosh kumar p', 'network problem', 'reviewed', 'india', 'november size', 'gbcolour halo whiteverified purchase', 'im', 'network problem', 'bangalore', 'jio', 'network', 'problem need', 'cameras', 'performance', 'good people', 'helpful comments', 'amazon customer worst', 'reviewed', 'india', 'november size', 'gbcolour', 'greenverified purchase', 'mp', 'mp', 'camera people', 'helpful comment', 'abuse pankaj s', 'issues', 'reviewed', 'india', 'november verified purchase', 'incoming', 'video images', 'helpful comment', 'abuse kamal roy', 'dont', 'reviewed', 'india', 'november size', 'gbcolour halo whiteverified purchase', 'device network signal weak data speed', 'battery', 'videos camera need improvement', 'mp', 'fool', 'asus', 'pro', 'mp', 'xiaomi', 'u r', 'plz plz', 'software updates people', 'helpful comments', 'sreenivasa reddy facing', 'heat issue', 'picture quality', 'reviewed', 'india', 'november verified purchase', 'callscamera video', 'picture quality', 'faulty device', 'replacement lets observe', 'new device people', 'helpful comments', 'veerababu disappointed reviewed', 'india', 'november size', 'gbcolour', 'greenverified purchase', 'cons', 'install apps', 'support', 'amazon prime', 'netflix', 'hd call quality', 'dont', 'trust reviewers guys', 'green color', 'guys buying', 'white color', 'black camera', 'quality', 'average overall', 'bad purchase people', 'helpful comment', 'previous', 'fast answers', 'need', 'customer service', 'click', 'redmi', 'pro halo', 'gb ram gb storage', 'helio gt', 'know us', 'us careers', 'releases amazon cares', 'smile connect', 'us facebook twitter instagram', 'us sell', 'amazon sell', 'amazon accelerator become', 'affiliate fulfilment', 'amazon advertise your products amazon pay', 'merchants', 'us', 'covid', 'amazon your account returns centre purchase protection amazon app download amazon', 'download', 'english australiabrazilcanadachinafrancegermanyitalyjapanmexiconetherlandssingaporespainunited arab emiratesunited kingdomunited', 'abebooks', 'books art collectibles', 'amazon web', 'cloud computing', 'audible download audio', 'dpreview digital photography imdb movies', 'celebrities shopbop designer', 'brands amazon', 'your', 'prime', 'hour delivery', 'everyday items amazon prime', 'conditions', 'saleprivacy noticeinterestbased ads amazoncom inc'])"
      ]
     },
     "execution_count": 19,
     "metadata": {},
     "output_type": "execute_result"
    }
   ],
   "source": [
    "NounPhrases=SampleTextInBlobFormat.noun_phrases\n",
    "NounPhrases"
   ]
  },
  {
   "cell_type": "code",
   "execution_count": 20,
   "metadata": {},
   "outputs": [
    {
     "data": {
      "text/plain": [
       "['skip',\n",
       " 'main_content',\n",
       " 'hello_sign',\n",
       " 'account_lists_returns_orders_try_prime_cart',\n",
       " 'categories_deals_alexa_skills_amazon_devices_amazon',\n",
       " 'amazon_pantry_appliances_apps',\n",
       " 'baby',\n",
       " 'beauty_books',\n",
       " 'car_motorbike_clothing_accessories_collectibles_computers_accessories_electronics_furniture',\n",
       " 'outdoors',\n",
       " 'gourmet',\n",
       " 'personal_care',\n",
       " 'kitchen',\n",
       " 'scientific_jewellery_kindle_store_luggage_bags_luxury',\n",
       " 'movies',\n",
       " 'shows',\n",
       " 'musical_instruments',\n",
       " 'products_pet_supplies_prime_video_shoes_handbags_software',\n",
       " 'fitness_outdoors_tools',\n",
       " 'improvement',\n",
       " 'video',\n",
       " 'watches',\n",
       " 'hello_select',\n",
       " 'mobiles',\n",
       " 'sellers_todays_deals_computers_redmi',\n",
       " 'pro_halo',\n",
       " 'gb_ram_gb_storage',\n",
       " 'helio_gt_customer',\n",
       " 'customer',\n",
       " 'customer_ratings_star_star_star_star_star',\n",
       " 'redmi',\n",
       " 'pro_halo',\n",
       " 'gb_ram_gb_storage',\n",
       " 'helio_gt_processor',\n",
       " 'size',\n",
       " 'gbcolour_halo_whitechange',\n",
       " 'amazon',\n",
       " 'calculate_star_ratings',\n",
       " 'buying_options',\n",
       " 'list_top',\n",
       " 'positive_review',\n",
       " 'positive_reviews',\n",
       " 'mukesh',\n",
       " 'zakaaaaaaaaaaas_reviewed',\n",
       " 'india',\n",
       " 'november_awesome',\n",
       " 'value',\n",
       " 'display',\n",
       " 'quality_camera',\n",
       " 'buttery_screen_sound_tuch_performance_allover_read',\n",
       " 'top',\n",
       " 'critical_review',\n",
       " 'critical_reviews_sanower_ali_warsi_friensds',\n",
       " 'read',\n",
       " 'reviewed',\n",
       " 'india',\n",
       " 'november',\n",
       " 'days_i',\n",
       " 'quad',\n",
       " 'long_distance_subject',\n",
       " 'imageif',\n",
       " 'x_zoom_image_quality',\n",
       " 'dieslow',\n",
       " 'motion_video',\n",
       " 'micron_lense',\n",
       " 'hope',\n",
       " 'read',\n",
       " 'search_sort_by_top',\n",
       " 'top',\n",
       " 'filter_by',\n",
       " 'verified',\n",
       " 'stars_star',\n",
       " 'size',\n",
       " 'gb_colour_halo',\n",
       " 'text_image',\n",
       " 'video_reviews',\n",
       " 'image',\n",
       " 'video_reviews',\n",
       " 'text_image',\n",
       " 'video_reviews',\n",
       " 'showing',\n",
       " 'clear',\n",
       " 'filter_sanower_ali_warsi_friensds',\n",
       " 'read',\n",
       " 'reviewed',\n",
       " 'india',\n",
       " 'november_size',\n",
       " 'gbcolour',\n",
       " 'greenverified_purchase',\n",
       " 'days_i',\n",
       " 'quad',\n",
       " 'long_distance_subject',\n",
       " 'imageif',\n",
       " 'x_zoom_image_quality',\n",
       " 'dieslow',\n",
       " 'motion_video',\n",
       " 'micron_lense',\n",
       " 'hope',\n",
       " 'update_people',\n",
       " 'helpful_comments',\n",
       " 'abuse_praveen',\n",
       " 'reviewed',\n",
       " 'india',\n",
       " 'november_verified_purchase_worst',\n",
       " 'phone_lot',\n",
       " 'problems_people',\n",
       " 'helpful_comments',\n",
       " 'soumalya',\n",
       " 'reviewed',\n",
       " 'india',\n",
       " 'november_size',\n",
       " 'gbcolour_halo_whiteverified_purchase_huge',\n",
       " 'right',\n",
       " 'game_people',\n",
       " 'helpful_comments',\n",
       " 'alok_raghav_worst',\n",
       " 'reviewed',\n",
       " 'india',\n",
       " 'november_verified_purchase',\n",
       " 'device',\n",
       " 'battery',\n",
       " 'replacement_policy',\n",
       " 'please',\n",
       " 'price_range',\n",
       " 'samsung',\n",
       " 'ms',\n",
       " 'helpful_comments',\n",
       " 'santhosh_kumar_p',\n",
       " 'network_problem',\n",
       " 'reviewed',\n",
       " 'india',\n",
       " 'november_size',\n",
       " 'gbcolour_halo_whiteverified_purchase',\n",
       " 'im',\n",
       " 'network_problem',\n",
       " 'bangalore',\n",
       " 'jio',\n",
       " 'network',\n",
       " 'problem_need',\n",
       " 'cameras',\n",
       " 'performance',\n",
       " 'good_people',\n",
       " 'helpful_comments',\n",
       " 'amazon_customer_worst',\n",
       " 'reviewed',\n",
       " 'india',\n",
       " 'november_size',\n",
       " 'gbcolour',\n",
       " 'greenverified_purchase',\n",
       " 'mp',\n",
       " 'mp',\n",
       " 'camera_people',\n",
       " 'helpful_comment',\n",
       " 'abuse_pankaj_s',\n",
       " 'issues',\n",
       " 'reviewed',\n",
       " 'india',\n",
       " 'november_verified_purchase',\n",
       " 'incoming',\n",
       " 'video_images',\n",
       " 'helpful_comment',\n",
       " 'abuse_kamal_roy',\n",
       " 'dont',\n",
       " 'reviewed',\n",
       " 'india',\n",
       " 'november_size',\n",
       " 'gbcolour_halo_whiteverified_purchase',\n",
       " 'device_network_signal_weak_data_speed',\n",
       " 'battery',\n",
       " 'videos_camera_need_improvement',\n",
       " 'mp',\n",
       " 'fool',\n",
       " 'asus',\n",
       " 'pro',\n",
       " 'mp',\n",
       " 'xiaomi',\n",
       " 'u_r',\n",
       " 'plz_plz',\n",
       " 'software_updates_people',\n",
       " 'helpful_comments',\n",
       " 'sreenivasa_reddy_facing',\n",
       " 'heat_issue',\n",
       " 'picture_quality',\n",
       " 'reviewed',\n",
       " 'india',\n",
       " 'november_verified_purchase',\n",
       " 'callscamera_video',\n",
       " 'picture_quality',\n",
       " 'faulty_device',\n",
       " 'replacement_lets_observe',\n",
       " 'new_device_people',\n",
       " 'helpful_comments',\n",
       " 'veerababu_disappointed_reviewed',\n",
       " 'india',\n",
       " 'november_size',\n",
       " 'gbcolour',\n",
       " 'greenverified_purchase',\n",
       " 'cons',\n",
       " 'install_apps',\n",
       " 'support',\n",
       " 'amazon_prime',\n",
       " 'netflix',\n",
       " 'hd_call_quality',\n",
       " 'dont',\n",
       " 'trust_reviewers_guys',\n",
       " 'green_color',\n",
       " 'guys_buying',\n",
       " 'white_color',\n",
       " 'black_camera',\n",
       " 'quality',\n",
       " 'average_overall',\n",
       " 'bad_purchase_people',\n",
       " 'helpful_comment',\n",
       " 'previous',\n",
       " 'fast_answers',\n",
       " 'need',\n",
       " 'customer_service',\n",
       " 'click',\n",
       " 'redmi',\n",
       " 'pro_halo',\n",
       " 'gb_ram_gb_storage',\n",
       " 'helio_gt',\n",
       " 'know_us',\n",
       " 'us_careers',\n",
       " 'releases_amazon_cares',\n",
       " 'smile_connect',\n",
       " 'us_facebook_twitter_instagram',\n",
       " 'us_sell',\n",
       " 'amazon_sell',\n",
       " 'amazon_accelerator_become',\n",
       " 'affiliate_fulfilment',\n",
       " 'amazon_advertise_your_products_amazon_pay',\n",
       " 'merchants',\n",
       " 'us',\n",
       " 'covid',\n",
       " 'amazon_your_account_returns_centre_purchase_protection_amazon_app_download_amazon',\n",
       " 'download',\n",
       " 'english_australiabrazilcanadachinafrancegermanyitalyjapanmexiconetherlandssingaporespainunited_arab_emiratesunited_kingdomunited',\n",
       " 'abebooks',\n",
       " 'books_art_collectibles',\n",
       " 'amazon_web',\n",
       " 'cloud_computing',\n",
       " 'audible_download_audio',\n",
       " 'dpreview_digital_photography_imdb_movies',\n",
       " 'celebrities_shopbop_designer',\n",
       " 'brands_amazon',\n",
       " 'your',\n",
       " 'prime',\n",
       " 'hour_delivery',\n",
       " 'everyday_items_amazon_prime',\n",
       " 'conditions',\n",
       " 'saleprivacy_noticeinterestbased_ads_amazoncom_inc']"
      ]
     },
     "execution_count": 20,
     "metadata": {},
     "output_type": "execute_result"
    }
   ],
   "source": [
    "NewNounList=[]\n",
    "for words in NounPhrases:\n",
    "    NewNounList.append(words.replace(\" \", \"_\"))\n",
    "\n",
    "NewNounList"
   ]
  },
  {
   "cell_type": "code",
   "execution_count": 21,
   "metadata": {},
   "outputs": [],
   "source": [
    "import nltk"
   ]
  },
  {
   "cell_type": "code",
   "execution_count": 24,
   "metadata": {},
   "outputs": [
    {
     "name": "stdout",
     "output_type": "stream",
     "text": [
      "Adjectives:  main positive positive helpful critical critical ali long more long professional happy update more helpful Most recent positive critical critical text text video reviewsCritical long more long professional happy update helpful praveen helpful helpful poor difficult helpful mobile Other awesome good helpful bad real helpful pankaj clear helpful kamal many signal weak side big old u plz helpful low more lowNot sure faulty new helpful mobile green cheap better black average overall bad helpful fast Everyday\n",
      "Overall sentiment score of ajdectives:  Sentiment(polarity=0.12539525691699605, subjectivity=0.519850680720246)\n"
     ]
    }
   ],
   "source": [
    "sampleSentence = nltk.word_tokenize(CleanText)\n",
    "sampleSentencePOS = nltk.pos_tag(sampleSentence)\n",
    "OnlyAdjectives= (\" \").join([POStags[0] for POStags in sampleSentencePOS if POStags[1] in ['JJ','JJR','JJS']])\n",
    "print ('Adjectives: ', OnlyAdjectives)\n",
    "print('Overall sentiment score of ajdectives: ',TextBlob(OnlyAdjectives).sentiment)"
   ]
  },
  {
   "cell_type": "code",
   "execution_count": 29,
   "metadata": {},
   "outputs": [
    {
     "data": {
      "image/png": "[encoded data removed]",
      "text/plain": [
       "<Figure size 576x576 with 1 Axes>"
      ]
     },
     "metadata": {
      "needs_background": "light"
     },
     "output_type": "display_data"
    }
   ],
   "source": [
    "from wordcloud import WordCloud, STOPWORDS\n",
    "import matplotlib.pyplot as plt\n",
    "\n",
    "customStopwords=list(STOPWORDS) + ['awesome','happy','positive','helpful','professional']\n",
    "wordcloudimage = WordCloud(max_words=50,\n",
    "                           font_step=2 ,\n",
    "                            max_font_size=500,\n",
    "                            stopwords=customStopwords + ['nlp'],\n",
    "                            width=2000,\n",
    "                            height=2000\n",
    "                          ).generate(OnlyAdjectives)\n",
    "\n",
    "plt.figure(figsize=(8,8))\n",
    "plt.imshow(wordcloudimage)\n",
    "plt.axis(\"off\")\n",
    "plt.show()"
   ]
  },
  {
   "cell_type": "code",
   "execution_count": null,
   "metadata": {},
   "outputs": [],
   "source": []
  },
  {
   "cell_type": "code",
   "execution_count": null,
   "metadata": {},
   "outputs": [],
   "source": []
  },
  {
   "cell_type": "code",
   "execution_count": null,
   "metadata": {},
   "outputs": [],
   "source": []
  },
  {
   "cell_type": "code",
   "execution_count": null,
   "metadata": {},
   "outputs": [],
   "source": []
  },
  {
   "cell_type": "code",
   "execution_count": null,
   "metadata": {},
   "outputs": [],
   "source": []
  },
  {
   "cell_type": "code",
   "execution_count": null,
   "metadata": {},
   "outputs": [],
   "source": []
  },
  {
   "cell_type": "code",
   "execution_count": null,
   "metadata": {},
   "outputs": [],
   "source": []
  },
  {
   "cell_type": "code",
   "execution_count": null,
   "metadata": {},
   "outputs": [],
   "source": []
  },
  {
   "cell_type": "code",
   "execution_count": null,
   "metadata": {},
   "outputs": [],
   "source": []
  },
  {
   "cell_type": "code",
   "execution_count": null,
   "metadata": {},
   "outputs": [],
   "source": []
  },
  {
   "cell_type": "code",
   "execution_count": null,
   "metadata": {},
   "outputs": [],
   "source": []
  },
  {
   "cell_type": "code",
   "execution_count": null,
   "metadata": {},
   "outputs": [],
   "source": []
  }
 ],
 "metadata": {
  "kernelspec": {
   "display_name": "Python 3",
   "language": "python",
   "name": "python3"
  },
  "language_info": {
   "codemirror_mode": {
    "name": "ipython",
    "version": 3
   },
   "file_extension": ".py",
   "mimetype": "text/x-python",
   "name": "python",
   "nbconvert_exporter": "python",
   "pygments_lexer": "ipython3",
   "version": "3.7.6"
  }
 },
 "nbformat": 4,
 "nbformat_minor": 4
}
