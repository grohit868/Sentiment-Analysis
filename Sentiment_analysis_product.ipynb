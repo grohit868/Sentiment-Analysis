{
 "cells": [
  {
   "cell_type": "code",
   "execution_count": null,
   "metadata": {},
   "outputs": [],
   "source": []
  },
  {
   "cell_type": "code",
   "execution_count": 1,
   "metadata": {},
   "outputs": [],
   "source": [
    "import time\n",
    "from selenium import webdriver\n",
    "customOptions = webdriver.ChromeOptions()"
   ]
  },
  {
   "cell_type": "code",
   "execution_count": 2,
   "metadata": {},
   "outputs": [],
   "source": [
    "from selenium.webdriver.common.keys import Keys"
   ]
  },
  {
   "cell_type": "code",
   "execution_count": 3,
   "metadata": {},
   "outputs": [],
   "source": [
    "#driver = webdriver.Chrome('chromedriver',options=customOptions)\n"
   ]
  },
  {
   "cell_type": "code",
   "execution_count": 4,
   "metadata": {},
   "outputs": [],
   "source": [
    "driver = webdriver.Chrome('chromedriver',options=customOptions)\n",
    "URL='https://www.amazon.in/Redmi-Note-Pro-Storage-Processor/product-reviews/B07X4PKGSN/ref=cm_cr_arp_d_viewopt_sr?ie=UTF8&reviewerType=all_reviews&pageNumber=1&filterByStar=one_star'\n",
    "driver.get(URL)"
   ]
  },
  {
   "cell_type": "code",
   "execution_count": 9,
   "metadata": {},
   "outputs": [],
   "source": [
    "WebPage_Element=driver.find_element_by_partial_link_text('See all 6,009 critical reviews')\n",
    "WebPage_Element.click()\n"
   ]
  },
  {
   "cell_type": "code",
   "execution_count": 11,
   "metadata": {},
   "outputs": [],
   "source": [
    "#WebPage_Element.click()\n"
   ]
  },
  {
   "cell_type": "code",
   "execution_count": 11,
   "metadata": {},
   "outputs": [],
   "source": [
    "TextBody = driver.find_element_by_css_selector('body')\n"
   ]
  },
  {
   "cell_type": "code",
   "execution_count": 12,
   "metadata": {},
   "outputs": [],
   "source": [
    "TextBody.send_keys(Keys.CONTROL+'a')"
   ]
  },
  {
   "cell_type": "code",
   "execution_count": 13,
   "metadata": {},
   "outputs": [],
   "source": [
    "import re\n",
    "RawFullText=TextBody.text\n",
    "CleanText=re.sub('\\n',' ',RawFullText)\n",
    "CleanText = re.sub(r'[^a-z A-Z]',r'',CleanText)"
   ]
  },
  {
   "cell_type": "code",
   "execution_count": 14,
   "metadata": {},
   "outputs": [
    {
     "data": {
      "text/plain": [
       "'Skip to main content in All All Categories Deals Alexa Skills Amazon Devices Amazon Fashion Amazon Pantry Appliances Apps  Games Baby Beauty Books Car  Motorbike Clothing  Accessories Collectibles Computers  Accessories Electronics Furniture Garden  Outdoors Gift Cards Grocery  Gourmet Foods Health  Personal Care Home  Kitchen Industrial  Scientific Jewellery Kindle Store Luggage  Bags Luxury Beauty Movies  TV Shows Music Musical Instruments Office Products Pet Supplies Prime Video Shoes  Handbags Software Sports Fitness  Outdoors Tools  Home Improvement Toys  Games Under  Video Games Watches Hello Sign in Account  Lists Returns  Orders Try Prime  Cart Hello Select your address Mobiles Best Sellers Todays Deals New Releases Computers Customer Service Amazon Pay Redmi Note  Pro Halo White GB RAM GB Storage with Helio GT  Customer reviews Customer reviews  out of   global ratings  star   star   star   star   star  Redmi Note  Pro Halo White GB RAM GB Storage with Helio GT Processor byRedmi Write a review How are ratings calculated See All Buying Options Add to Wish List Top positive review All positive reviews Mohammed Abdul Rahman Just buy this Beast Reviewed in India on  November  I dont know why some people giving less stars Let me give my review after using since  days Divided this review in pros and cons Pros Finger print and face unlock is super fast  Touch is smooth  IPS Display which is HDR Enabled is upto the mark  Beautiful colours available i am using Gamma Green  Feel and Look is just awesome  Notch Display  Ram and internal Memory  Processor is super fast  All  Camera working perfectly i love macro camera  Beast for Gaming  Build quality is awesome just side with plastic xiomi can give metal at sides  Cons While watching YouTube video quality is poor why i dont understand as in other videos it is good  While playing games or doing heavy task temperature warm at processor side which is left side of camera This  things xiomi can fix by software updates One less star just for this  cons Read more  people found this helpful Top critical review All critical reviews praveen Bad performance Reviewed in India on  November  Worst phone lot of problems  people found this helpful Search SORT BY Top reviews Most recent Top reviews FILTER BY All reviewers Verified purchase only All reviewers All stars  star only  star only  star only  star only  star only All positive All critical  star only All text image and video reviews Image and video reviews only All text image and video reviews FILTERED BY  starClear filter  global ratings   global reviews From India praveen Bad performance Reviewed in India on  November  Verified Purchase Worst phone lot of problems  people found this helpful Helpful  Comments Report abuse Alok Raghav Worst smartphone ever by redmi Reviewed in India on  November  Verified Purchase Camera is very poor Device setup is also difficult Battery draining fast No replacement policy Please dont buy this phone In this price range you can go for Samsung galaxy Ms  people found this helpful Helpful  Comments Report abuse Amazon Customer Worst Camera Reviewed in India on  November  Verified Purchase Camera is very very bad This is not a real MP Camera They are cheating us in name of MP camera  people found this helpful Helpful Comment Report abuse pankaj s Issues with video calling Reviewed in India on  November  Verified Purchase Has issues with video calling Incoming video images are not clear  scattered  Check this before buying  people found this helpful Helpful Comment Report abuse kamal roy Dont waste your money Reviewed in India on  November  Verified Purchase I have noticed so many bugsissues in this device  network signal weak data speed slow  heating issue back side become over heat at the time of talking photos and videos just within  to minutes  Battery draining fast when I using camera for talking photos as well as videos  camera need improvement MP camera that makes me a big Fool its just like my old Asus max Pro m MP camera Xiaomi team if u r listening plz plz solve those issues by software updates  people found this helpful Helpful  Comments Report abuse Veerababu Disappointed  Reviewed in India on  November  Verified Purchase People will regret after buying this mobile Cons  The heating issue even if you install apps the mobile is getting heat  No L Support even if it shows Amazon Prime and Netflix is not supported HD  Call Quality issues  Dont trust reviewers guys the green color looks So cheap If you guys buying better go with White color or black  Camera Quality is average  overall  its a bad purchase  people found this helpful Helpful Comment Report abuse Amazon Customer I bought it for photographyvery disappointed Reviewed in India on  November  Verified Purchase Worse cameramy old phone  mp camera far better from this  people found this helpful Helpful  Comment Report abuse Nikhil Sarja Not worth to money waste of money Reviewed in India on  November  Verified Purchase Plz dnt buy redmi note  pro camera is better than redmi note  pro  people found this helpful Helpful Comment Report abuse Akhil Kumar bhowmik Sensor is not work Reviewed in India on  November  Verified Purchase I was purchased oct And i am facing a problem with my phone is promextiry sensor is doesnt work Then i am not call or talk properly  people found this helpful Helpful Comment Report abuse Krishna Hanging waste mediatek wont buy Reviewed in India on  November  Verified Purchase Your browser does not support HTML video  Waste product dont buy got hanged on nd day and I replaced it on checking done by Amazon technician but replaced product doest not worked properly I rebooted it and started working better and heating issues also  people found this helpful Helpful Comment Report abuse Previous page Next page Questions Get fast answers from reviewers Ask See all  answered questions Need customer service Click here  See all details for Redmi Note  Pro Halo White GB RAM GB Storage with Helio GT  Your recently viewed items and featured recommendations  View or edit your browsing history After viewing product detail pages look here to find an easy way to navigate back to pages you are interested in  Back to top Get to Know Us About Us Careers Press Releases Amazon Cares Gift a Smile Connect with Us Facebook Twitter Instagram Make Money with Us Sell on Amazon Sell under Amazon Accelerator Become an Affiliate Fulfilment by Amazon Advertise Your Products Amazon Pay on Merchants Let Us Help You COVID and Amazon Your Account Returns Centre  Purchase Protection Amazon App Download Amazon Assistant Download Help English AustraliaBrazilCanadaChinaFranceGermanyItalyJapanMexicoNetherlandsSingaporeSpainUnited Arab EmiratesUnited KingdomUnited States AbeBooks Books art  collectibles Amazon Web Services Scalable Cloud Computing Services Audible Download Audio Books DPReview Digital Photography IMDb Movies TV  Celebrities   Shopbop Designer Fashion Brands Amazon Business Everything For Your Business Prime Now Hour Delivery on Everyday Items Amazon Prime Music  million songs   Conditions of Use  SalePrivacy NoticeInterestBased Ads  Amazoncom Inc or its affiliates'"
      ]
     },
     "execution_count": 14,
     "metadata": {},
     "output_type": "execute_result"
    }
   ],
   "source": [
    "CleanText\n"
   ]
  },
  {
   "cell_type": "code",
   "execution_count": 15,
   "metadata": {},
   "outputs": [],
   "source": [
    "from textblob import TextBlob\n",
    "SampleTextInBlobFormat = TextBlob(CleanText)"
   ]
  },
  {
   "cell_type": "code",
   "execution_count": 16,
   "metadata": {},
   "outputs": [
    {
     "data": {
      "text/plain": [
       "Sentiment(polarity=0.02745964316057774, subjectivity=0.46873123760974245)"
      ]
     },
     "execution_count": 16,
     "metadata": {},
     "output_type": "execute_result"
    }
   ],
   "source": [
    "SampleTextInBlobFormat.sentiment"
   ]
  },
  {
   "cell_type": "code",
   "execution_count": 17,
   "metadata": {},
   "outputs": [
    {
     "data": {
      "text/plain": [
       "WordList(['skip', 'main content', 'categories deals alexa skills amazon devices amazon', 'amazon pantry appliances apps', 'baby', 'beauty books', 'car motorbike clothing accessories collectibles computers accessories electronics furniture', 'outdoors', 'gourmet', 'personal care', 'kitchen', 'scientific jewellery kindle store luggage bags luxury', 'movies', 'shows', 'musical instruments', 'products pet supplies prime video shoes handbags software', 'fitness outdoors tools', 'improvement', 'video', 'watches hello sign', 'account lists returns orders try prime cart hello select', 'mobiles', 'sellers todays deals', 'releases computers customer', 'amazon pay redmi', 'pro halo', 'gb ram gb storage', 'helio gt customer', 'customer', 'global ratings star star star star star', 'redmi', 'pro halo', 'gb ram gb storage', 'helio gt processor', 'buying options', 'list top', 'positive review', 'positive reviews', 'mohammed abdul rahman', 'beast reviewed', 'india', 'november', 'divided', 'pros finger', 'touch', 'ips display', 'hdr enabled', 'beautiful', 'available i', 'feel', 'notch display ram', 'memory processor', 'macro camera', 'beast', 'gaming build', 'plastic xiomi', 'cons', 'youtube', 'video quality', 'i dont', 'heavy task temperature', 'processor side', 'things xiomi', 'software updates', 'read', 'top', 'critical review', 'critical reviews praveen', 'reviewed', 'india', 'november worst', 'phone lot', 'problems people', 'search sort by top', 'top', 'filter by', 'verified', 'stars star', 'critical star', 'text image', 'video reviews', 'image', 'video reviews', 'text image', 'video reviews', 'filtered by', 'starclear filter', 'global ratings', 'global reviews', 'india', 'reviewed', 'india', 'november verified purchase worst', 'phone lot', 'problems people', 'helpful comments', 'alok raghav worst', 'reviewed', 'india', 'november verified purchase', 'device', 'battery', 'replacement policy', 'please', 'price range', 'samsung', 'ms', 'helpful comments', 'amazon customer worst', 'reviewed', 'india', 'november verified purchase', 'mp', 'mp', 'camera people', 'helpful comment', 'abuse pankaj s', 'issues', 'reviewed', 'india', 'november verified purchase', 'incoming', 'video images', 'helpful comment', 'abuse kamal roy', 'dont', 'reviewed', 'india', 'november verified purchase', 'device network signal weak data speed', 'battery', 'videos camera need improvement', 'mp', 'fool', 'asus', 'pro', 'mp', 'xiaomi', 'u r', 'plz plz', 'software updates people', 'helpful comments', 'veerababu disappointed reviewed', 'india', 'november verified purchase', 'cons', 'install apps', 'support', 'amazon prime', 'netflix', 'hd call quality', 'dont', 'trust reviewers guys', 'green color', 'guys buying', 'white color', 'black camera', 'quality', 'average overall', 'bad purchase people', 'helpful comment', 'amazon customer', 'reviewed', 'india', 'november verified purchase worse', 'old phone mp camera', 'helpful comment', 'nikhil sarja', 'money waste', 'reviewed', 'india', 'november verified purchase plz', 'redmi note', 'pro camera', 'redmi note', 'pro people', 'helpful comment', 'akhil kumar', 'sensor', 'reviewed', 'india', 'november verified purchase', 'promextiry sensor', 'doesnt work', 'helpful comment', 'krishna hanging', 'waste mediatek wont', 'reviewed', 'india', 'november verified purchase your', 'html', 'waste', 'product dont', 'nd day', 'amazon', 'product doest', 'helpful comment', 'previous', 'fast answers', 'need', 'customer service', 'click', 'redmi', 'pro halo', 'gb ram gb storage', 'helio gt your', 'recommendations view', 'product detail pages', 'easy way', 'know us', 'us careers', 'releases amazon cares', 'smile connect', 'us facebook twitter instagram', 'us sell', 'amazon sell', 'amazon accelerator become', 'affiliate fulfilment', 'amazon advertise your products amazon pay', 'merchants', 'us', 'covid', 'amazon your account returns centre purchase protection amazon app download amazon', 'download', 'english australiabrazilcanadachinafrancegermanyitalyjapanmexiconetherlandssingaporespainunited arab emiratesunited kingdomunited', 'abebooks', 'books art collectibles', 'amazon web', 'cloud computing', 'audible download audio', 'dpreview digital photography imdb movies', 'celebrities shopbop designer', 'brands amazon', 'your', 'prime', 'hour delivery', 'everyday items amazon prime', 'conditions', 'saleprivacy noticeinterestbased ads amazoncom inc'])"
      ]
     },
     "execution_count": 17,
     "metadata": {},
     "output_type": "execute_result"
    }
   ],
   "source": [
    "NounPhrases=SampleTextInBlobFormat.noun_phrases\n",
    "NounPhrases"
   ]
  },
  {
   "cell_type": "code",
   "execution_count": 18,
   "metadata": {},
   "outputs": [
    {
     "data": {
      "text/plain": [
       "['skip',\n",
       " 'main_content',\n",
       " 'categories_deals_alexa_skills_amazon_devices_amazon',\n",
       " 'amazon_pantry_appliances_apps',\n",
       " 'baby',\n",
       " 'beauty_books',\n",
       " 'car_motorbike_clothing_accessories_collectibles_computers_accessories_electronics_furniture',\n",
       " 'outdoors',\n",
       " 'gourmet',\n",
       " 'personal_care',\n",
       " 'kitchen',\n",
       " 'scientific_jewellery_kindle_store_luggage_bags_luxury',\n",
       " 'movies',\n",
       " 'shows',\n",
       " 'musical_instruments',\n",
       " 'products_pet_supplies_prime_video_shoes_handbags_software',\n",
       " 'fitness_outdoors_tools',\n",
       " 'improvement',\n",
       " 'video',\n",
       " 'watches_hello_sign',\n",
       " 'account_lists_returns_orders_try_prime_cart_hello_select',\n",
       " 'mobiles',\n",
       " 'sellers_todays_deals',\n",
       " 'releases_computers_customer',\n",
       " 'amazon_pay_redmi',\n",
       " 'pro_halo',\n",
       " 'gb_ram_gb_storage',\n",
       " 'helio_gt_customer',\n",
       " 'customer',\n",
       " 'global_ratings_star_star_star_star_star',\n",
       " 'redmi',\n",
       " 'pro_halo',\n",
       " 'gb_ram_gb_storage',\n",
       " 'helio_gt_processor',\n",
       " 'buying_options',\n",
       " 'list_top',\n",
       " 'positive_review',\n",
       " 'positive_reviews',\n",
       " 'mohammed_abdul_rahman',\n",
       " 'beast_reviewed',\n",
       " 'india',\n",
       " 'november',\n",
       " 'divided',\n",
       " 'pros_finger',\n",
       " 'touch',\n",
       " 'ips_display',\n",
       " 'hdr_enabled',\n",
       " 'beautiful',\n",
       " 'available_i',\n",
       " 'feel',\n",
       " 'notch_display_ram',\n",
       " 'memory_processor',\n",
       " 'macro_camera',\n",
       " 'beast',\n",
       " 'gaming_build',\n",
       " 'plastic_xiomi',\n",
       " 'cons',\n",
       " 'youtube',\n",
       " 'video_quality',\n",
       " 'i_dont',\n",
       " 'heavy_task_temperature',\n",
       " 'processor_side',\n",
       " 'things_xiomi',\n",
       " 'software_updates',\n",
       " 'read',\n",
       " 'top',\n",
       " 'critical_review',\n",
       " 'critical_reviews_praveen',\n",
       " 'reviewed',\n",
       " 'india',\n",
       " 'november_worst',\n",
       " 'phone_lot',\n",
       " 'problems_people',\n",
       " 'search_sort_by_top',\n",
       " 'top',\n",
       " 'filter_by',\n",
       " 'verified',\n",
       " 'stars_star',\n",
       " 'critical_star',\n",
       " 'text_image',\n",
       " 'video_reviews',\n",
       " 'image',\n",
       " 'video_reviews',\n",
       " 'text_image',\n",
       " 'video_reviews',\n",
       " 'filtered_by',\n",
       " 'starclear_filter',\n",
       " 'global_ratings',\n",
       " 'global_reviews',\n",
       " 'india',\n",
       " 'reviewed',\n",
       " 'india',\n",
       " 'november_verified_purchase_worst',\n",
       " 'phone_lot',\n",
       " 'problems_people',\n",
       " 'helpful_comments',\n",
       " 'alok_raghav_worst',\n",
       " 'reviewed',\n",
       " 'india',\n",
       " 'november_verified_purchase',\n",
       " 'device',\n",
       " 'battery',\n",
       " 'replacement_policy',\n",
       " 'please',\n",
       " 'price_range',\n",
       " 'samsung',\n",
       " 'ms',\n",
       " 'helpful_comments',\n",
       " 'amazon_customer_worst',\n",
       " 'reviewed',\n",
       " 'india',\n",
       " 'november_verified_purchase',\n",
       " 'mp',\n",
       " 'mp',\n",
       " 'camera_people',\n",
       " 'helpful_comment',\n",
       " 'abuse_pankaj_s',\n",
       " 'issues',\n",
       " 'reviewed',\n",
       " 'india',\n",
       " 'november_verified_purchase',\n",
       " 'incoming',\n",
       " 'video_images',\n",
       " 'helpful_comment',\n",
       " 'abuse_kamal_roy',\n",
       " 'dont',\n",
       " 'reviewed',\n",
       " 'india',\n",
       " 'november_verified_purchase',\n",
       " 'device_network_signal_weak_data_speed',\n",
       " 'battery',\n",
       " 'videos_camera_need_improvement',\n",
       " 'mp',\n",
       " 'fool',\n",
       " 'asus',\n",
       " 'pro',\n",
       " 'mp',\n",
       " 'xiaomi',\n",
       " 'u_r',\n",
       " 'plz_plz',\n",
       " 'software_updates_people',\n",
       " 'helpful_comments',\n",
       " 'veerababu_disappointed_reviewed',\n",
       " 'india',\n",
       " 'november_verified_purchase',\n",
       " 'cons',\n",
       " 'install_apps',\n",
       " 'support',\n",
       " 'amazon_prime',\n",
       " 'netflix',\n",
       " 'hd_call_quality',\n",
       " 'dont',\n",
       " 'trust_reviewers_guys',\n",
       " 'green_color',\n",
       " 'guys_buying',\n",
       " 'white_color',\n",
       " 'black_camera',\n",
       " 'quality',\n",
       " 'average_overall',\n",
       " 'bad_purchase_people',\n",
       " 'helpful_comment',\n",
       " 'amazon_customer',\n",
       " 'reviewed',\n",
       " 'india',\n",
       " 'november_verified_purchase_worse',\n",
       " 'old_phone_mp_camera',\n",
       " 'helpful_comment',\n",
       " 'nikhil_sarja',\n",
       " 'money_waste',\n",
       " 'reviewed',\n",
       " 'india',\n",
       " 'november_verified_purchase_plz',\n",
       " 'redmi_note',\n",
       " 'pro_camera',\n",
       " 'redmi_note',\n",
       " 'pro_people',\n",
       " 'helpful_comment',\n",
       " 'akhil_kumar',\n",
       " 'sensor',\n",
       " 'reviewed',\n",
       " 'india',\n",
       " 'november_verified_purchase',\n",
       " 'promextiry_sensor',\n",
       " 'doesnt_work',\n",
       " 'helpful_comment',\n",
       " 'krishna_hanging',\n",
       " 'waste_mediatek_wont',\n",
       " 'reviewed',\n",
       " 'india',\n",
       " 'november_verified_purchase_your',\n",
       " 'html',\n",
       " 'waste',\n",
       " 'product_dont',\n",
       " 'nd_day',\n",
       " 'amazon',\n",
       " 'product_doest',\n",
       " 'helpful_comment',\n",
       " 'previous',\n",
       " 'fast_answers',\n",
       " 'need',\n",
       " 'customer_service',\n",
       " 'click',\n",
       " 'redmi',\n",
       " 'pro_halo',\n",
       " 'gb_ram_gb_storage',\n",
       " 'helio_gt_your',\n",
       " 'recommendations_view',\n",
       " 'product_detail_pages',\n",
       " 'easy_way',\n",
       " 'know_us',\n",
       " 'us_careers',\n",
       " 'releases_amazon_cares',\n",
       " 'smile_connect',\n",
       " 'us_facebook_twitter_instagram',\n",
       " 'us_sell',\n",
       " 'amazon_sell',\n",
       " 'amazon_accelerator_become',\n",
       " 'affiliate_fulfilment',\n",
       " 'amazon_advertise_your_products_amazon_pay',\n",
       " 'merchants',\n",
       " 'us',\n",
       " 'covid',\n",
       " 'amazon_your_account_returns_centre_purchase_protection_amazon_app_download_amazon',\n",
       " 'download',\n",
       " 'english_australiabrazilcanadachinafrancegermanyitalyjapanmexiconetherlandssingaporespainunited_arab_emiratesunited_kingdomunited',\n",
       " 'abebooks',\n",
       " 'books_art_collectibles',\n",
       " 'amazon_web',\n",
       " 'cloud_computing',\n",
       " 'audible_download_audio',\n",
       " 'dpreview_digital_photography_imdb_movies',\n",
       " 'celebrities_shopbop_designer',\n",
       " 'brands_amazon',\n",
       " 'your',\n",
       " 'prime',\n",
       " 'hour_delivery',\n",
       " 'everyday_items_amazon_prime',\n",
       " 'conditions',\n",
       " 'saleprivacy_noticeinterestbased_ads_amazoncom_inc']"
      ]
     },
     "execution_count": 18,
     "metadata": {},
     "output_type": "execute_result"
    }
   ],
   "source": [
    "NewNounList=[]\n",
    "for words in NounPhrases:\n",
    "    NewNounList.append(words.replace(\" \", \"_\"))\n",
    "\n",
    "NewNounList"
   ]
  },
  {
   "cell_type": "code",
   "execution_count": 19,
   "metadata": {},
   "outputs": [],
   "source": [
    "import nltk"
   ]
  },
  {
   "cell_type": "code",
   "execution_count": 20,
   "metadata": {},
   "outputs": [
    {
     "name": "stdout",
     "output_type": "stream",
     "text": [
      "Adjectives:  main global positive positive less super smooth upto available awesome internal super awesome plastic poor other good heavy left less helpful critical critical praveen helpful Most recent Top positive critical text text video starClear global global praveen helpful poor difficult helpful bad real helpful pankaj clear helpful kamal many signal weak side big old u plz helpful mobile green cheap better black average overall bad helpful disappointed old helpful worth redmi pro better redmi note pro helpful promextiry doesnt properly helpful wont nd technician replaced doest helpful fast featured easy interested Everyday\n",
      "Overall sentiment score of ajdectives:  Sentiment(polarity=0.0845862470862471, subjectivity=0.4542249417249418)\n"
     ]
    }
   ],
   "source": [
    "sampleSentence = nltk.word_tokenize(CleanText)\n",
    "sampleSentencePOS = nltk.pos_tag(sampleSentence)\n",
    "OnlyAdjectives= (\" \").join([POStags[0] for POStags in sampleSentencePOS if POStags[1] in ['JJ','JJR','JJS']])\n",
    "print ('Adjectives: ', OnlyAdjectives)\n",
    "print('Overall sentiment score of ajdectives: ',TextBlob(OnlyAdjectives).sentiment)"
   ]
  },
  {
   "cell_type": "code",
   "execution_count": 21,
   "metadata": {},
   "outputs": [
    {
     "data": {
      "image/png": "[encoded data removed]",
      "text/plain": [
       "<Figure size 576x576 with 1 Axes>"
      ]
     },
     "metadata": {
      "needs_background": "light"
     },
     "output_type": "display_data"
    }
   ],
   "source": [
    "from wordcloud import WordCloud, STOPWORDS\n",
    "import matplotlib.pyplot as plt\n",
    "\n",
    "customStopwords=list(STOPWORDS) + ['awesome','happy','positive','helpful','professional']\n",
    "wordcloudimage = WordCloud(max_words=50,\n",
    "                           font_step=2 ,\n",
    "                            max_font_size=500,\n",
    "                            stopwords=customStopwords + ['nlp'],\n",
    "                            width=2000,\n",
    "                            height=2000\n",
    "                          ).generate(OnlyAdjectives)\n",
    "\n",
    "plt.figure(figsize=(8,8))\n",
    "plt.imshow(wordcloudimage)\n",
    "plt.axis(\"off\")\n",
    "plt.show()"
   ]
  },
  {
   "cell_type": "code",
   "execution_count": null,
   "metadata": {},
   "outputs": [],
   "source": []
  },
  {
   "cell_type": "code",
   "execution_count": null,
   "metadata": {},
   "outputs": [],
   "source": []
  },
  {
   "cell_type": "code",
   "execution_count": null,
   "metadata": {},
   "outputs": [],
   "source": []
  },
  {
   "cell_type": "code",
   "execution_count": null,
   "metadata": {},
   "outputs": [],
   "source": []
  },
  {
   "cell_type": "code",
   "execution_count": null,
   "metadata": {},
   "outputs": [],
   "source": []
  },
  {
   "cell_type": "code",
   "execution_count": null,
   "metadata": {},
   "outputs": [],
   "source": []
  },
  {
   "cell_type": "code",
   "execution_count": null,
   "metadata": {},
   "outputs": [],
   "source": []
  },
  {
   "cell_type": "code",
   "execution_count": null,
   "metadata": {},
   "outputs": [],
   "source": []
  },
  {
   "cell_type": "code",
   "execution_count": null,
   "metadata": {},
   "outputs": [],
   "source": []
  },
  {
   "cell_type": "code",
   "execution_count": null,
   "metadata": {},
   "outputs": [],
   "source": []
  },
  {
   "cell_type": "code",
   "execution_count": null,
   "metadata": {},
   "outputs": [],
   "source": []
  },
  {
   "cell_type": "code",
   "execution_count": null,
   "metadata": {},
   "outputs": [],
   "source": []
  }
 ],
 "metadata": {
  "kernelspec": {
   "display_name": "Python 3",
   "language": "python",
   "name": "python3"
  },
  "language_info": {
   "codemirror_mode": {
    "name": "ipython",
    "version": 3
   },
   "file_extension": ".py",
   "mimetype": "text/x-python",
   "name": "python",
   "nbconvert_exporter": "python",
   "pygments_lexer": "ipython3",
   "version": "3.7.6"
  }
 },
 "nbformat": 4,
 "nbformat_minor": 4
}
